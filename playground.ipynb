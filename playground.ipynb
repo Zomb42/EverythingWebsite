{
 "cells": [
  {
   "cell_type": "code",
   "execution_count": 2,
   "metadata": {},
   "outputs": [
    {
     "name": "stdout",
     "output_type": "stream",
     "text": [
      "Character: H\n",
      "Character: e\n",
      "Character: r\n",
      "Character: e\n",
      "Character: \\\n",
      "Character:  \n",
      "Character: i\n",
      "Character: s\n",
      "Character: \\\n",
      "Character:  \n",
      "Character: a\n",
      "Character: \\\n",
      "Character:  \n",
      "Character: b\n",
      "Character: a\n",
      "Character: c\n",
      "Character: k\n",
      "Character: s\n",
      "Character: l\n",
      "Character: a\n",
      "Character: s\n",
      "Character: h\n",
      "Character: \\\n",
      "Character:  \n",
      "Character: e\n",
      "Character: x\n",
      "Character: a\n",
      "Character: m\n",
      "Character: p\n",
      "Character: l\n",
      "Character: e\n",
      "Character: \\\n",
      "Character: .\n"
     ]
    }
   ],
   "source": [
    "s = \"Here\\\\ is\\\\ a\\\\ backslash\\\\ example\\\\.\"\n",
    "\n",
    "# Iterate and detect backslashes\n",
    "for char in s:\n",
    "   # if char == '\\\\':\n",
    "   #     print(\"Backslash detected!\")\n",
    "   # else:\n",
    "        print(f\"Character: {char}\")"
   ]
  },
  {
   "cell_type": "code",
   "execution_count": null,
   "metadata": {},
   "outputs": [],
   "source": []
  }
 ],
 "metadata": {
  "kernelspec": {
   "display_name": "Python 3",
   "language": "python",
   "name": "python3"
  },
  "language_info": {
   "codemirror_mode": {
    "name": "ipython",
    "version": 3
   },
   "file_extension": ".py",
   "mimetype": "text/x-python",
   "name": "python",
   "nbconvert_exporter": "python",
   "pygments_lexer": "ipython3",
   "version": "3.11.5"
  }
 },
 "nbformat": 4,
 "nbformat_minor": 2
}
